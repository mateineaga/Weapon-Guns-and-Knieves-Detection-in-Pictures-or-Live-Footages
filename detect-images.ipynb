{
 "cells": [
  {
   "cell_type": "code",
   "execution_count": 7,
   "id": "55ac2708-023b-4a2c-a7d6-734a1d9b9765",
   "metadata": {},
   "outputs": [],
   "source": [
    "import cv2\n",
    "from ultralytics import YOLO\n",
    "\n",
    "def detect_objects_in_photo(image_path):\n",
    "    image_orig = cv2.imread(image_path)\n",
    "    \n",
    "    yolo_model = YOLO('./runs/detect/Normal_Compressed/weights/best.pt')\n",
    "    \n",
    "    results = yolo_model(image_orig)\n",
    "\n",
    "    for result in results:\n",
    "        classes = result.names\n",
    "        cls = result.boxes.cls\n",
    "        conf = result.boxes.conf\n",
    "        detections = result.boxes.xyxy\n",
    "\n",
    "        for pos, detection in enumerate(detections):\n",
    "            if conf[pos] >= 0.5:\n",
    "                xmin, ymin, xmax, ymax = detection\n",
    "                label = f\"{classes[int(cls[pos])]} {conf[pos]:.2f}\" \n",
    "                color = (0, int(cls[pos]), 255)\n",
    "                cv2.rectangle(image_orig, (int(xmin), int(ymin)), (int(xmax), int(ymax)), color, 2)\n",
    "                cv2.putText(image_orig, label, (int(xmin), int(ymin) - 10), cv2.FONT_HERSHEY_SIMPLEX, 0.5, color, 1, cv2.LINE_AA)\n",
    "\n",
    "    result_path = \"./imgs/Test/teste.jpg\"\n",
    "    cv2.imwrite(result_path, image_orig)\n",
    "    return result_path"
   ]
  },
  {
   "cell_type": "code",
   "execution_count": 8,
   "id": "af8fe533-4458-4aa3-a6fc-e2aa8b392ebb",
   "metadata": {},
   "outputs": [
    {
     "name": "stdout",
     "output_type": "stream",
     "text": [
      "Procesare imagini...\n",
      "Procesare imagine: ./imgs/Test/IMG-20250120-WA0034.jpg\n"
     ]
    },
    {
     "name": "stderr",
     "output_type": "stream",
     "text": [
      "\n",
      "0: 640x480 (no detections), 54.1ms\n",
      "Speed: 2.5ms preprocess, 54.1ms inference, 0.4ms postprocess per image at shape (1, 3, 640, 480)\n"
     ]
    },
    {
     "name": "stdout",
     "output_type": "stream",
     "text": [
      "Imagine procesată salvată la: ./imgs/results/test/result_IMG-20250120-WA0034.jpg\n",
      "Procesare imagine: ./imgs/Test/IMG-20250120-WA0032.jpg\n"
     ]
    },
    {
     "name": "stderr",
     "output_type": "stream",
     "text": [
      "\n",
      "0: 640x480 1 knife, 52.2ms\n",
      "Speed: 2.4ms preprocess, 52.2ms inference, 0.7ms postprocess per image at shape (1, 3, 640, 480)\n"
     ]
    },
    {
     "name": "stdout",
     "output_type": "stream",
     "text": [
      "Imagine procesată salvată la: ./imgs/results/test/result_IMG-20250120-WA0032.jpg\n",
      "Procesare imagine: ./imgs/Test/IMG-20250120-WA0033.jpg\n"
     ]
    },
    {
     "name": "stderr",
     "output_type": "stream",
     "text": [
      "\n",
      "0: 640x480 (no detections), 52.4ms\n",
      "Speed: 2.7ms preprocess, 52.4ms inference, 0.4ms postprocess per image at shape (1, 3, 640, 480)\n"
     ]
    },
    {
     "name": "stdout",
     "output_type": "stream",
     "text": [
      "Imagine procesată salvată la: ./imgs/results/test/result_IMG-20250120-WA0033.jpg\n",
      "Procesare imagine: ./imgs/Test/IMG-20250120-WA0035.jpg\n"
     ]
    },
    {
     "name": "stderr",
     "output_type": "stream",
     "text": [
      "\n",
      "0: 640x480 (no detections), 49.4ms\n",
      "Speed: 3.2ms preprocess, 49.4ms inference, 0.4ms postprocess per image at shape (1, 3, 640, 480)\n"
     ]
    },
    {
     "name": "stdout",
     "output_type": "stream",
     "text": [
      "Imagine procesată salvată la: ./imgs/results/test/result_IMG-20250120-WA0035.jpg\n"
     ]
    }
   ],
   "source": [
    "import os\n",
    "\n",
    "# Funție pentru a aplica detect_objects_in_photo pe un folder\n",
    "def process_images_in_folder(folder_path, output_folder):\n",
    "    # Creează folderul de ieșire dacă nu există\n",
    "    os.makedirs(output_folder, exist_ok=True)\n",
    "\n",
    "    for filename in os.listdir(folder_path):\n",
    "        if filename.endswith(\".jpg\") or filename.endswith(\".png\"):\n",
    "            image_path = os.path.join(folder_path, filename)\n",
    "            print(f\"Procesare imagine: {image_path}\")\n",
    "            \n",
    "            # Apelăm funcția detect_objects_in_photo\n",
    "            result_path = detect_objects_in_photo(image_path)\n",
    "            \n",
    "            # Mută imaginea rezultată în folderul de ieșire\n",
    "            new_result_path = os.path.join(output_folder, f\"result_{filename}\")\n",
    "            os.rename(result_path, new_result_path)\n",
    "            print(f\"Imagine procesată salvată la: {new_result_path}\")\n",
    "\n",
    "# Apel funcție pentru folderele 'train' și 'test'\n",
    "train_folder = \"./imgs/Train\"\n",
    "test_folder = \"./imgs/Test\"\n",
    "\n",
    "output_train_folder = \"./imgs/results/train\"\n",
    "output_test_folder = \"./imgs/results/test\"\n",
    "\n",
    "#print(\"Procesare imagini din folderul de antrenament...\")\n",
    "#process_images_in_folder(train_folder, output_train_folder)\n",
    "\n",
    "print(\"Procesare imagini...\")\n",
    "process_images_in_folder(test_folder, output_test_folder)\n"
   ]
  },
  {
   "cell_type": "code",
   "execution_count": null,
   "id": "0e3952db-1495-4843-9f26-99929b59eaa8",
   "metadata": {},
   "outputs": [],
   "source": []
  }
 ],
 "metadata": {
  "kernelspec": {
   "display_name": "Python 3 (ipykernel)",
   "language": "python",
   "name": "python3"
  },
  "language_info": {
   "codemirror_mode": {
    "name": "ipython",
    "version": 3
   },
   "file_extension": ".py",
   "mimetype": "text/x-python",
   "name": "python",
   "nbconvert_exporter": "python",
   "pygments_lexer": "ipython3",
   "version": "3.11.10"
  }
 },
 "nbformat": 4,
 "nbformat_minor": 5
}
